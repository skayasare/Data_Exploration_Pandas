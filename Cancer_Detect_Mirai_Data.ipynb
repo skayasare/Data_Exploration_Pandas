{
 "cells": [
  {
   "cell_type": "code",
   "execution_count": 1,
   "metadata": {},
   "outputs": [],
   "source": [
    "import numpy as np\n",
    "import pandas as pd\n",
    "import matplotlib.pyplot as plt\n",
    "from collections import Counter\n",
    "import datetime\n",
    "from collections import defaultdict\n",
    "pd.set_option(\"display.max_columns\", 300)\n",
    "pd.set_option(\"display.max_rows\", 200)"
   ]
  },
  {
   "cell_type": "code",
   "execution_count": 2,
   "metadata": {},
   "outputs": [
    {
     "name": "stderr",
     "output_type": "stream",
     "text": [
      "/opt/tljh/user/lib/python3.7/site-packages/IPython/core/interactiveshell.py:3063: DtypeWarning: Columns (28,31,33,48,49,50,51,53,54,55,56,57,59,61,63,76,78,81,84,85,93) have mixed types.Specify dtype option on import or set low_memory=False.\n",
      "  interactivity=interactivity, compiler=compiler, result=result)\n",
      "/opt/tljh/user/lib/python3.7/site-packages/IPython/core/interactiveshell.py:3063: DtypeWarning: Columns (75,104,105,114,115,116,117,118,119,129,131,132,133,134,135,137,142,146,147,148,150,156) have mixed types.Specify dtype option on import or set low_memory=False.\n",
      "  interactivity=interactivity, compiler=compiler, result=result)\n"
     ]
    }
   ],
   "source": [
    "magview_all_cohorts_anon_ROI_HITI = pd.read_csv(\".../magview_all_cohorts_anon_HITI.csv\")\n",
    "metadata_all_cohorts_ROI_HITI=pd.read_csv('.../metadata_all_cohort_with_ROI_HITI.csv')\n",
    "met_backup = metadata_all_cohorts_ROI_HITI.copy()"
   ]
  },
  {
   "cell_type": "code",
   "execution_count": 3,
   "metadata": {},
   "outputs": [],
   "source": [
    "# This block of code will be implemented in the end of this page.\n",
    "# magview_all_cohorts_anon_ROI_HITI = magview_all_cohorts_anon_ROI_HITI[magview_all_cohorts_anon_ROI_HITI.desc.str.contains('screen',case=False)]\n",
    "# metadata_all_cohorts_ROI_HITI = metadata_all_cohorts_ROI_HITI[metadata_all_cohorts_ROI_HITI.StudyDescription.str.contains('screen',case=False)]\n",
    "\n",
    "# magview_all_cohorts_anon_ROI_HITI = magview_all_cohorts_anon_ROI_HITI[magview_all_cohorts_anon_ROI_HITI.desc.str.contains('screen',case=False)]\n",
    "# metadata_all_cohorts_ROI_HITI = metadata_all_cohorts_ROI_HITI[metadata_all_cohorts_ROI_HITI.StudyDescription.str.contains('screen',case=False)]"
   ]
  },
  {
   "cell_type": "code",
   "execution_count": 4,
   "metadata": {},
   "outputs": [],
   "source": [
    "magview_all_cohorts_anon_ROI_HITI.path_severity.value_counts()\n",
    "##I fill the path_severity NaNs with 5.0 negative becasue many of those mamography results don't go to autopsy at all.\n",
    "magview_all_cohorts_anon_ROI_HITI.path_severity=magview_all_cohorts_anon_ROI_HITI.path_severity.fillna(value=5.0)"
   ]
  },
  {
   "cell_type": "code",
   "execution_count": 5,
   "metadata": {},
   "outputs": [
    {
     "data": {
      "text/plain": [
       "5.0    404547\n",
       "4.0     12285\n",
       "0.0      5939\n",
       "2.0      3702\n",
       "1.0      2384\n",
       "3.0       155\n",
       "Name: path_severity, dtype: int64"
      ]
     },
     "execution_count": 5,
     "metadata": {},
     "output_type": "execute_result"
    }
   ],
   "source": [
    "magview_all_cohorts_anon_ROI_HITI.path_severity.value_counts()"
   ]
  },
  {
   "cell_type": "code",
   "execution_count": 6,
   "metadata": {},
   "outputs": [
    {
     "data": {
      "text/plain": [
       "{'ENCOUNTER_QTY',\n",
       " 'ETHNICITY_DESC',\n",
       " 'ETHNIC_GROUP_DESC',\n",
       " 'GENDER_DESC',\n",
       " 'MARITAL_STATUS_DESC',\n",
       " 'PATIENT_ADDRESS_ZIP_DESC',\n",
       " 'Unnamed: 0',\n",
       " 'Unnamed: 0.1',\n",
       " 'acc_anon',\n",
       " 'age_at_study',\n",
       " 'anterior',\n",
       " 'asses',\n",
       " 'bcomp',\n",
       " 'bdepth',\n",
       " 'bdistance',\n",
       " 'biop_loc',\n",
       " 'biopsite',\n",
       " 'bside',\n",
       " 'calcdistri',\n",
       " 'calcfind',\n",
       " 'calcnumber',\n",
       " 'case',\n",
       " 'changed',\n",
       " 'cohort_num',\n",
       " 'concord',\n",
       " 'consistent',\n",
       " 'dcissize',\n",
       " 'depth',\n",
       " 'desc',\n",
       " 'diag_out',\n",
       " 'distance',\n",
       " 'eic',\n",
       " 'empi_anon',\n",
       " 'est',\n",
       " 'estp',\n",
       " 'extracap',\n",
       " 'fish',\n",
       " 'focality',\n",
       " 'her2',\n",
       " 'hgrade',\n",
       " 'implanfind',\n",
       " 'index',\n",
       " 'inferior',\n",
       " 'invsize',\n",
       " 'isocell',\n",
       " 'ki67',\n",
       " 'largedp',\n",
       " 'lateral',\n",
       " 'loc',\n",
       " 'loc_num',\n",
       " 'location',\n",
       " 'ltcomp',\n",
       " 'lymphsurg',\n",
       " 'macrometa',\n",
       " 'massdens',\n",
       " 'massmargin',\n",
       " 'massshape',\n",
       " 'medial',\n",
       " 'methodevl',\n",
       " 'micrometa',\n",
       " 'new',\n",
       " 'nfocal',\n",
       " 'node_pos',\n",
       " 'node_rem',\n",
       " 'numfind',\n",
       " 'numfind_unique',\n",
       " 'otherfind',\n",
       " 'path1',\n",
       " 'path10',\n",
       " 'path2',\n",
       " 'path3',\n",
       " 'path4',\n",
       " 'path5',\n",
       " 'path6',\n",
       " 'path7',\n",
       " 'path8',\n",
       " 'path9',\n",
       " 'path_group',\n",
       " 'path_loc',\n",
       " 'path_severity',\n",
       " 'pdate_anon',\n",
       " 'pocomp',\n",
       " 'posterior',\n",
       " 'proccode',\n",
       " 'procdate_anon',\n",
       " 'recc',\n",
       " 'sdate_anon',\n",
       " 'side',\n",
       " 'size',\n",
       " 'snode_rem',\n",
       " 'specembed',\n",
       " 'specinteg',\n",
       " 'specnum',\n",
       " 'specsize',\n",
       " 'specsize2',\n",
       " 'specsize3',\n",
       " 'stable',\n",
       " 'stage',\n",
       " 'study_date_anon',\n",
       " 'superior',\n",
       " 'surg_loc',\n",
       " 'surgery',\n",
       " 'technique',\n",
       " 'tissueden',\n",
       " 'tnmdesc',\n",
       " 'tnmm',\n",
       " 'tnmpn',\n",
       " 'tnmpt',\n",
       " 'tnmr',\n",
       " 'type',\n",
       " 'vtype'}"
      ]
     },
     "execution_count": 6,
     "metadata": {},
     "output_type": "execute_result"
    }
   ],
   "source": [
    "column1 = set(list(magview_all_cohorts_anon_ROI_HITI.columns))\n",
    "column2 = set(list(metadata_all_cohorts_ROI_HITI.columns))\n",
    "column1"
   ]
  },
  {
   "cell_type": "code",
   "execution_count": 7,
   "metadata": {},
   "outputs": [
    {
     "data": {
      "text/plain": [
       "{'0_AnatomicRegionSequence_CodeMeaning',\n",
       " '0_AnatomicRegionSequence_CodeValue',\n",
       " '0_AnatomicRegionSequence_CodingSchemeDesignator',\n",
       " '0_IconImageSequence_BitsAllocated',\n",
       " '0_IconImageSequence_BitsStored',\n",
       " '0_IconImageSequence_Columns',\n",
       " '0_IconImageSequence_HighBit',\n",
       " '0_IconImageSequence_PhotometricInterpretation',\n",
       " '0_IconImageSequence_PixelRepresentation',\n",
       " '0_IconImageSequence_Rows',\n",
       " '0_IconImageSequence_SamplesPerPixel',\n",
       " '0_PerformedProtocolCodeSequence_CodeMeaning',\n",
       " '0_PerformedProtocolCodeSequence_CodeValue',\n",
       " '0_PerformedProtocolCodeSequence_CodingSchemeDesignator',\n",
       " '0_ProcedureCodeSequence_CodeMeaning',\n",
       " '0_ProcedureCodeSequence_CodeValue',\n",
       " '0_ProcedureCodeSequence_CodingSchemeDesignator',\n",
       " '0_ProcedureCodeSequence_CodingSchemeVersion',\n",
       " '0_RelatedSeriesSequence_0_PurposeOfReferenceCodeSequence_CodeMeaning',\n",
       " '0_RelatedSeriesSequence_0_PurposeOfReferenceCodeSequence_CodeValue',\n",
       " '0_RelatedSeriesSequence_0_PurposeOfReferenceCodeSequence_CodingSchemeDesignator',\n",
       " '0_SourceImageSequence_0_PurposeOfReferenceCodeSequence_CodeMeaning',\n",
       " '0_SourceImageSequence_0_PurposeOfReferenceCodeSequence_CodeValue',\n",
       " '0_SourceImageSequence_0_PurposeOfReferenceCodeSequence_CodingSchemeDesignator',\n",
       " '0_SourceImageSequence_SpatialLocationsPreserved',\n",
       " '0_ViewCodeSequence_0_ViewModifierCodeSequence_CodeMeaning',\n",
       " '0_ViewCodeSequence_0_ViewModifierCodeSequence_CodeValue',\n",
       " '0_ViewCodeSequence_0_ViewModifierCodeSequence_CodingSchemeDesignator',\n",
       " '0_ViewCodeSequence_CodeMeaning',\n",
       " '0_ViewCodeSequence_CodeValue',\n",
       " '0_ViewCodeSequence_CodingSchemeDesignator',\n",
       " '0_ViewCodeSequence_ViewModifierCodeSequence',\n",
       " 'AcquisitionContextSequence',\n",
       " 'AcquisitionDeviceProcessingCode',\n",
       " 'AcquisitionDeviceProcessingDescription',\n",
       " 'AcquisitionTime',\n",
       " 'AnodeTargetMaterial',\n",
       " 'BitsAllocated',\n",
       " 'BitsStored',\n",
       " 'BodyPartExamined',\n",
       " 'BodyPartThickness',\n",
       " 'BreastImplantPresent',\n",
       " 'BurnedInAnnotation',\n",
       " 'CollimatorLeftVerticalEdge',\n",
       " 'CollimatorLowerHorizontalEdge',\n",
       " 'CollimatorRightVerticalEdge',\n",
       " 'CollimatorShape',\n",
       " 'CollimatorUpperHorizontalEdge',\n",
       " 'Columns',\n",
       " 'CommentsOnRadiationDose',\n",
       " 'CompressionForce',\n",
       " 'ContentTime',\n",
       " 'ConversionType',\n",
       " 'DerivationDescription',\n",
       " 'DetectorActiveDimensions',\n",
       " 'DetectorActiveShape',\n",
       " 'DetectorBinning',\n",
       " 'DetectorConditionsNominalFlag',\n",
       " 'DetectorConfiguration',\n",
       " 'DetectorDescription',\n",
       " 'DetectorElementPhysicalSize',\n",
       " 'DetectorElementSpacing',\n",
       " 'DetectorTemperature',\n",
       " 'DetectorType',\n",
       " 'DistanceSourceToDetector',\n",
       " 'DistanceSourceToEntrance',\n",
       " 'DistanceSourceToPatient',\n",
       " 'EntranceDose',\n",
       " 'EntranceDoseInmGy',\n",
       " 'EstimatedRadiographicMagnificationFactor',\n",
       " 'Exposure',\n",
       " 'ExposureControlMode',\n",
       " 'ExposureControlModeDescription',\n",
       " 'ExposureInuAs',\n",
       " 'ExposureStatus',\n",
       " 'ExposureTime',\n",
       " 'ExposureTimeInuS',\n",
       " 'FieldOfViewDimensions',\n",
       " 'FieldOfViewHorizontalFlip',\n",
       " 'FieldOfViewOrigin',\n",
       " 'FieldOfViewRotation',\n",
       " 'FieldOfViewShape',\n",
       " 'FillerOrderNumberImagingServiceRequest',\n",
       " 'FilterMaterial',\n",
       " 'FilterThicknessMaximum',\n",
       " 'FilterThicknessMinimum',\n",
       " 'FilterType',\n",
       " 'FinalImageType',\n",
       " 'FocalSpots',\n",
       " 'Grid',\n",
       " 'HalfValueLayer',\n",
       " 'HighBit',\n",
       " 'ImageLaterality',\n",
       " 'ImageLateralityFinal',\n",
       " 'ImageType',\n",
       " 'ImagerPixelSpacing',\n",
       " 'ImagesInAcquisition',\n",
       " 'InstanceNumber',\n",
       " 'IssuerOfPatientID',\n",
       " 'KVP',\n",
       " 'Laterality',\n",
       " 'LateralityDeriveFlag',\n",
       " 'LossyImageCompression',\n",
       " 'Manufacturer',\n",
       " 'ManufacturerModelName',\n",
       " 'Modality',\n",
       " 'OrganDose',\n",
       " 'OrganExposed',\n",
       " 'PaddleDescription',\n",
       " 'PatientOrientation',\n",
       " 'PatientSex',\n",
       " 'PerformedProcedureStepDescription',\n",
       " 'PerformedProcedureStepStartTime',\n",
       " 'PhotometricInterpretation',\n",
       " 'PixelIntensityRelationship',\n",
       " 'PixelIntensityRelationshipSign',\n",
       " 'PixelPaddingRangeLimit',\n",
       " 'PixelPaddingValue',\n",
       " 'PixelRepresentation',\n",
       " 'PixelSpacing',\n",
       " 'PositionerPrimaryAngle',\n",
       " 'PositionerPrimaryAngleDirection',\n",
       " 'PositionerType',\n",
       " 'PresentationIntentType',\n",
       " 'PresentationLUTShape',\n",
       " 'ProtocolName',\n",
       " 'QualityControlImage',\n",
       " 'ROI_coords',\n",
       " 'RelativeXRayExposure',\n",
       " 'RescaleIntercept',\n",
       " 'RescaleSlope',\n",
       " 'RescaleType',\n",
       " 'Rows',\n",
       " 'SRC_DST',\n",
       " 'SamplesPerPixel',\n",
       " 'Sensitivity',\n",
       " 'SeriesDescription',\n",
       " 'SeriesNumber',\n",
       " 'SeriesTime',\n",
       " 'SoftwareVersions',\n",
       " 'SpecificCharacterSet',\n",
       " 'StudyDescription',\n",
       " 'StudyID',\n",
       " 'StudyTime',\n",
       " 'TimeOfLastDetectorCalibration',\n",
       " 'Unnamed: 0',\n",
       " 'Unnamed: 0.1',\n",
       " 'Unnamed: 0.1.1',\n",
       " 'VOILUTFunction',\n",
       " 'ViewPosition',\n",
       " 'WindowCenter',\n",
       " 'WindowCenterWidthExplanation',\n",
       " 'WindowWidth',\n",
       " 'XRayTubeCurrent',\n",
       " 'acc_anon',\n",
       " 'category',\n",
       " 'cohort_num',\n",
       " 'empi_anon',\n",
       " 'filename',\n",
       " 'folder_path',\n",
       " 'has_pix_array',\n",
       " 'match_level',\n",
       " 'num_roi',\n",
       " 'png_path',\n",
       " 'png_path_old',\n",
       " 'spot_mag',\n",
       " 'study_date_anon'}"
      ]
     },
     "execution_count": 7,
     "metadata": {},
     "output_type": "execute_result"
    }
   ],
   "source": [
    "column2"
   ]
  },
  {
   "cell_type": "code",
   "execution_count": 8,
   "metadata": {},
   "outputs": [],
   "source": [
    "df_cancer = magview_all_cohorts_anon_ROI_HITI[magview_all_cohorts_anon_ROI_HITI.path_severity.isin([0,1])][['empi_anon','desc','path_severity','procdate_anon']]"
   ]
  },
  {
   "cell_type": "code",
   "execution_count": 9,
   "metadata": {},
   "outputs": [
    {
     "data": {
      "text/plain": [
       "0.0    5939\n",
       "1.0    2384\n",
       "Name: path_severity, dtype: int64"
      ]
     },
     "execution_count": 9,
     "metadata": {},
     "output_type": "execute_result"
    }
   ],
   "source": [
    "df_cancer.path_severity.value_counts()"
   ]
  },
  {
   "cell_type": "code",
   "execution_count": null,
   "metadata": {},
   "outputs": [],
   "source": []
  },
  {
   "cell_type": "code",
   "execution_count": 10,
   "metadata": {},
   "outputs": [
    {
     "name": "stdout",
     "output_type": "stream",
     "text": [
      "(8323, 4)\n",
      "(6724, 4)\n"
     ]
    }
   ],
   "source": [
    "print(df_cancer.shape)\n",
    "df_cancer.drop_duplicates(inplace=True)\n",
    "print(df_cancer.shape)\n",
    "# duplication removed"
   ]
  },
  {
   "cell_type": "code",
   "execution_count": 11,
   "metadata": {},
   "outputs": [
    {
     "data": {
      "text/html": [
       "<div>\n",
       "<style scoped>\n",
       "    .dataframe tbody tr th:only-of-type {\n",
       "        vertical-align: middle;\n",
       "    }\n",
       "\n",
       "    .dataframe tbody tr th {\n",
       "        vertical-align: top;\n",
       "    }\n",
       "\n",
       "    .dataframe thead th {\n",
       "        text-align: right;\n",
       "    }\n",
       "</style>\n",
       "<table border=\"1\" class=\"dataframe\">\n",
       "  <thead>\n",
       "    <tr style=\"text-align: right;\">\n",
       "      <th></th>\n",
       "      <th>empi_anon</th>\n",
       "      <th>desc</th>\n",
       "      <th>path_severity</th>\n",
       "      <th>procdate_anon</th>\n",
       "    </tr>\n",
       "  </thead>\n",
       "  <tbody>\n",
       "    <tr>\n",
       "      <th>5</th>\n",
       "      <td>60286517</td>\n",
       "      <td>MG Diagnostic Left</td>\n",
       "      <td>0.0</td>\n",
       "      <td>2013-08-14</td>\n",
       "    </tr>\n",
       "    <tr>\n",
       "      <th>195</th>\n",
       "      <td>94981297</td>\n",
       "      <td>MG Diagnostic Left</td>\n",
       "      <td>1.0</td>\n",
       "      <td>2013-05-07</td>\n",
       "    </tr>\n",
       "    <tr>\n",
       "      <th>197</th>\n",
       "      <td>94981297</td>\n",
       "      <td>MG Screening Bilateral w/CAD</td>\n",
       "      <td>1.0</td>\n",
       "      <td>2013-05-07</td>\n",
       "    </tr>\n",
       "    <tr>\n",
       "      <th>535</th>\n",
       "      <td>17525263</td>\n",
       "      <td>MG Diagnostic Mammo Bilateral</td>\n",
       "      <td>0.0</td>\n",
       "      <td>2013-10-18</td>\n",
       "    </tr>\n",
       "    <tr>\n",
       "      <th>536</th>\n",
       "      <td>17525263</td>\n",
       "      <td>MG Diagnostic Mammo Bilateral</td>\n",
       "      <td>0.0</td>\n",
       "      <td>2013-12-14</td>\n",
       "    </tr>\n",
       "    <tr>\n",
       "      <th>557</th>\n",
       "      <td>63915451</td>\n",
       "      <td>MG Diagnostic Mammo Bilateral</td>\n",
       "      <td>1.0</td>\n",
       "      <td>2013-03-07</td>\n",
       "    </tr>\n",
       "    <tr>\n",
       "      <th>559</th>\n",
       "      <td>63915451</td>\n",
       "      <td>MG Diagnostic Mammo Bilateral</td>\n",
       "      <td>1.0</td>\n",
       "      <td>2013-05-18</td>\n",
       "    </tr>\n",
       "    <tr>\n",
       "      <th>562</th>\n",
       "      <td>63915451</td>\n",
       "      <td>MG Screening Bilateral w/CAD</td>\n",
       "      <td>1.0</td>\n",
       "      <td>2013-03-07</td>\n",
       "    </tr>\n",
       "    <tr>\n",
       "      <th>564</th>\n",
       "      <td>63915451</td>\n",
       "      <td>MG Screening Bilateral w/CAD</td>\n",
       "      <td>1.0</td>\n",
       "      <td>2013-05-18</td>\n",
       "    </tr>\n",
       "    <tr>\n",
       "      <th>738</th>\n",
       "      <td>38747692</td>\n",
       "      <td>MG Diagnostic Right</td>\n",
       "      <td>0.0</td>\n",
       "      <td>2013-02-27</td>\n",
       "    </tr>\n",
       "  </tbody>\n",
       "</table>\n",
       "</div>"
      ],
      "text/plain": [
       "     empi_anon                           desc  path_severity procdate_anon\n",
       "5     60286517             MG Diagnostic Left            0.0    2013-08-14\n",
       "195   94981297             MG Diagnostic Left            1.0    2013-05-07\n",
       "197   94981297   MG Screening Bilateral w/CAD            1.0    2013-05-07\n",
       "535   17525263  MG Diagnostic Mammo Bilateral            0.0    2013-10-18\n",
       "536   17525263  MG Diagnostic Mammo Bilateral            0.0    2013-12-14\n",
       "557   63915451  MG Diagnostic Mammo Bilateral            1.0    2013-03-07\n",
       "559   63915451  MG Diagnostic Mammo Bilateral            1.0    2013-05-18\n",
       "562   63915451   MG Screening Bilateral w/CAD            1.0    2013-03-07\n",
       "564   63915451   MG Screening Bilateral w/CAD            1.0    2013-05-18\n",
       "738   38747692            MG Diagnostic Right            0.0    2013-02-27"
      ]
     },
     "execution_count": 11,
     "metadata": {},
     "output_type": "execute_result"
    }
   ],
   "source": [
    "df_cancer.head(10)"
   ]
  },
  {
   "cell_type": "code",
   "execution_count": 12,
   "metadata": {},
   "outputs": [],
   "source": [
    "df_cancer = df_cancer[df_cancer.desc.str.contains('screen',case='False')]"
   ]
  },
  {
   "cell_type": "code",
   "execution_count": 14,
   "metadata": {},
   "outputs": [],
   "source": [
    "df_cancer.columns = ['empi_anon','desc','path_severity_y','cancer_date']"
   ]
  },
  {
   "cell_type": "code",
   "execution_count": 15,
   "metadata": {},
   "outputs": [],
   "source": [
    "df_merge = pd.merge(magview_all_cohorts_anon_ROI_HITI,df_cancer,on='empi_anon',how='left')"
   ]
  },
  {
   "cell_type": "code",
   "execution_count": 16,
   "metadata": {},
   "outputs": [
    {
     "name": "stdout",
     "output_type": "stream",
     "text": [
      "(429012, 111)\n",
      "(429012, 114)\n"
     ]
    }
   ],
   "source": [
    "print (magview_all_cohorts_anon_ROI_HITI.shape)\n",
    "print (df_merge.shape)"
   ]
  },
  {
   "cell_type": "code",
   "execution_count": 17,
   "metadata": {},
   "outputs": [],
   "source": [
    "df_merge = df_merge[['study_date_anon', 'cancer_date', 'empi_anon', 'acc_anon','cohort_num']]"
   ]
  },
  {
   "cell_type": "code",
   "execution_count": 18,
   "metadata": {},
   "outputs": [],
   "source": [
    "df_merge['study_date_anon_dt']=pd.to_datetime(df_merge.study_date_anon)\n",
    "df_merge['cancer_date_dt']=pd.to_datetime(df_merge.cancer_date)\n",
    "## dates are preserved and saved into different columns"
   ]
  },
  {
   "cell_type": "code",
   "execution_count": 19,
   "metadata": {},
   "outputs": [],
   "source": [
    "cancer_date_dropped_na = df_merge.dropna(subset=['cancer_date_dt'])\n",
    "# ## cancer_date_dt\n",
    "### I drop nan first of all save it into a separate variable for later tasks.\n",
    "### "
   ]
  },
  {
   "cell_type": "code",
   "execution_count": 20,
   "metadata": {},
   "outputs": [
    {
     "data": {
      "text/html": [
       "<div>\n",
       "<style scoped>\n",
       "    .dataframe tbody tr th:only-of-type {\n",
       "        vertical-align: middle;\n",
       "    }\n",
       "\n",
       "    .dataframe tbody tr th {\n",
       "        vertical-align: top;\n",
       "    }\n",
       "\n",
       "    .dataframe thead th {\n",
       "        text-align: right;\n",
       "    }\n",
       "</style>\n",
       "<table border=\"1\" class=\"dataframe\">\n",
       "  <thead>\n",
       "    <tr style=\"text-align: right;\">\n",
       "      <th></th>\n",
       "      <th>study_date_anon</th>\n",
       "      <th>cancer_date</th>\n",
       "      <th>empi_anon</th>\n",
       "      <th>acc_anon</th>\n",
       "      <th>cohort_num</th>\n",
       "      <th>study_date_anon_dt</th>\n",
       "      <th>cancer_date_dt</th>\n",
       "    </tr>\n",
       "  </thead>\n",
       "  <tbody>\n",
       "  </tbody>\n",
       "</table>\n",
       "</div>"
      ],
      "text/plain": [
       "Empty DataFrame\n",
       "Columns: [study_date_anon, cancer_date, empi_anon, acc_anon, cohort_num, study_date_anon_dt, cancer_date_dt]\n",
       "Index: []"
      ]
     },
     "execution_count": 20,
     "metadata": {},
     "output_type": "execute_result"
    }
   ],
   "source": [
    "cancer_date_dropped_na.head(10)"
   ]
  },
  {
   "cell_type": "code",
   "execution_count": null,
   "metadata": {},
   "outputs": [],
   "source": []
  },
  {
   "cell_type": "code",
   "execution_count": 21,
   "metadata": {},
   "outputs": [],
   "source": [
    "cancer_date_dropped_na = cancer_date_dropped_na.sort_values(by=['empi_anon'], axis = 0)\n",
    "empi_anon_list = list(np.unique(cancer_date_dropped_na.empi_anon))\n",
    "##collect empi_anon that have cancer records."
   ]
  },
  {
   "cell_type": "code",
   "execution_count": 22,
   "metadata": {},
   "outputs": [],
   "source": [
    "cancer_date_na_dropped_dict = dict()\n",
    "\n",
    "\n",
    "for anEmpi_anon in empi_anon_list:\n",
    "    anEmpi_anon_subdata = cancer_date_dropped_na.groupby(by=['empi_anon'], as_index=True).get_group(anEmpi_anon)\n",
    "    ##Subdataset of Each_empi_anon was retrieved by Each empi_anon will be retrieved\n",
    "    unique_cancer_date = list(np.unique(anEmpi_anon_subdata.cancer_date))\n",
    "    ## Get all different cancer_date for each empi_anon\n",
    "    no_of_cancers = len(unique_cancer_date)\n",
    "    ## it gets the no. of unique different cancer dates\n",
    "\n",
    "    Empi_anon_Lowest_cancer_date = list()\n",
    "    for oneNo in range(no_of_cancers):\n",
    "        noCounter = oneNo + 1\n",
    "        column_name = \"{One}_cancer_date\".format(One = noCounter)\n",
    "        ## nth cancer date becomes column name\n",
    "        anEmpi_anon_subdata[column_name] = pd.to_datetime(unique_cancer_date[oneNo])\n",
    "        ## nth cancer date is recorded in the nth cancer date column\n",
    "        substract_delta = \"{One}_cancer_delta\".format(One=noCounter)\n",
    "        ## time delta between nth cancer date and the exam date is worked out and also the column name for it\n",
    "        anEmpi_anon_subdata[substract_delta] = anEmpi_anon_subdata[column_name] - anEmpi_anon_subdata['study_date_anon_dt']\n",
    "        Empi_anon_positive_Delta = anEmpi_anon_subdata[anEmpi_anon_subdata[substract_delta] > np.timedelta64(0, 'D')]\n",
    "        ## for each empi_anon, those with positive delta values are selected only\n",
    "        Empi_anon_positive_Delta.dropna(inplace=True)\n",
    "        ## Delta values of NaT have been dropped\n",
    "        #print(Empi_anon_positive_Delta)\n",
    "        Empi_anon_positive_delta_Lowest_cancer_date=Empi_anon_positive_Delta[Empi_anon_positive_Delta[substract_delta]==Empi_anon_positive_Delta[substract_delta].min()]\n",
    "        ## Among the positive cancer_date_delta for nth cancer, choose the minimum date.\n",
    "        Empi_anon_Lowest_cancer_date.append(Empi_anon_positive_delta_Lowest_cancer_date)\n",
    "        ## The mininum cancer delta is added to a list\n",
    "        \n",
    "    \n",
    "    ## If empi_anon has multiple cancer_delta, make it into a single subdataset for this empi_anon\n",
    "    ## save it into a dictionary for later use.\n",
    "    if len(Empi_anon_Lowest_cancer_date) > 1:\n",
    "        df_submerged=pd.concat(Empi_anon_Lowest_cancer_date)\n",
    "        df_submerged.drop_duplicates()\n",
    "        df_submerged.dropna(inplace=True)\n",
    "        cancer_date_na_dropped_dict[anEmpi_anon] = df_submerged\n",
    "    else:\n",
    "    ## If empi_anon has one cancer_delta, this becomes the whole dataset.\n",
    "        Empi_anon_Lowest_cancer_date[0].drop_duplicates()\n",
    "        Empi_anon_Lowest_cancer_date[0].dropna(inplace=True)\n",
    "        cancer_date_na_dropped_dict[anEmpi_anon] = Empi_anon_Lowest_cancer_date[0]"
   ]
  },
  {
   "cell_type": "code",
   "execution_count": null,
   "metadata": {},
   "outputs": [],
   "source": []
  },
  {
   "cell_type": "code",
   "execution_count": 23,
   "metadata": {},
   "outputs": [],
   "source": [
    "for empi_anon_to_be_replaced in empi_anon_list:\n",
    "    df_merge.drop(df_merge[(df_merge['empi_anon'] == empi_anon_to_be_replaced) & (pd.notna(df_merge['cancer_date_dt']))].index, inplace = True)\n",
    "    ## out of the source dataset, data rows with empi_anon that has cancer date are removed\n",
    "    subsutByEmpi_anon = cancer_date_na_dropped_dict[empi_anon_to_be_replaced]\n",
    "    \n",
    "    subsutByEmpi_anon = subsutByEmpi_anon[['study_date_anon','cancer_date','empi_anon','acc_anon' ,'cohort_num','study_date_anon_dt','cancer_date_dt']]\n",
    "    ## for each empi non with cancer, those infomration saved in the dictionary is retrieved.\n",
    "    #print(subsutByEmpi_anon)\n",
    "    df_merge = pd.concat([df_merge, subsutByEmpi_anon], ignore_index=True)\n",
    "    ## they are moved into the source dataset.\n",
    "    \n",
    "    \n",
    "    "
   ]
  },
  {
   "cell_type": "code",
   "execution_count": 24,
   "metadata": {},
   "outputs": [
    {
     "data": {
      "text/plain": [
       "(429012, 7)"
      ]
     },
     "execution_count": 24,
     "metadata": {},
     "output_type": "execute_result"
    }
   ],
   "source": [
    "# print(df_merge.cancer_date_dt.isna().value_counts())\n",
    "df_merge.shape"
   ]
  },
  {
   "cell_type": "code",
   "execution_count": 25,
   "metadata": {},
   "outputs": [
    {
     "data": {
      "text/plain": [
       "(429012, 7)"
      ]
     },
     "execution_count": 25,
     "metadata": {},
     "output_type": "execute_result"
    }
   ],
   "source": [
    "df_merge.drop_duplicates()\n",
    "df_merge.shape\n",
    "#Drop any possible duplicates."
   ]
  },
  {
   "cell_type": "code",
   "execution_count": 26,
   "metadata": {},
   "outputs": [
    {
     "data": {
      "text/plain": [
       "1"
      ]
     },
     "execution_count": 26,
     "metadata": {},
     "output_type": "execute_result"
    }
   ],
   "source": [
    "len(np.unique(df_merge.cancer_date_dt))"
   ]
  },
  {
   "cell_type": "code",
   "execution_count": null,
   "metadata": {},
   "outputs": [],
   "source": []
  },
  {
   "cell_type": "code",
   "execution_count": 27,
   "metadata": {},
   "outputs": [
    {
     "data": {
      "text/plain": [
       "3276"
      ]
     },
     "execution_count": 27,
     "metadata": {},
     "output_type": "execute_result"
    }
   ],
   "source": [
    "len(np.unique(df_merge.study_date_anon_dt))"
   ]
  },
  {
   "cell_type": "code",
   "execution_count": 28,
   "metadata": {},
   "outputs": [],
   "source": [
    "df_merge['time_delta']=df_merge.cancer_date_dt - df_merge.study_date_anon_dt\n",
    "## I worked out days different in terms of time delta."
   ]
  },
  {
   "cell_type": "code",
   "execution_count": null,
   "metadata": {},
   "outputs": [],
   "source": [
    "df_mer"
   ]
  },
  {
   "cell_type": "code",
   "execution_count": null,
   "metadata": {},
   "outputs": [],
   "source": [
    "df_merge['years_to_cancer'] = (df_merge['time_delta'].dt.days / (365.25))\n",
    "df_merge['years_to_cancer'] = df_merge['years_to_cancer'].astype(float)\n",
    "## years are worked out divided by 365.25\n"
   ]
  },
  {
   "cell_type": "code",
   "execution_count": null,
   "metadata": {},
   "outputs": [],
   "source": [
    "df_merge['years_to_cancer'].value_counts()"
   ]
  },
  {
   "cell_type": "code",
   "execution_count": null,
   "metadata": {},
   "outputs": [],
   "source": [
    "print(df_merge.years_to_cancer.isna().value_counts())\n",
    "print((df_merge.years_to_cancer<0).value_counts())\n"
   ]
  },
  {
   "cell_type": "code",
   "execution_count": null,
   "metadata": {},
   "outputs": [],
   "source": [
    "df_merge['years_to_cancer'].fillna(100, inplace=True)\n",
    "df_merge.loc[df_merge.years_to_cancer<0,'years_to_cancer']=100\n",
    "\n",
    "## all those Null values are replaced with 100 years"
   ]
  },
  {
   "cell_type": "code",
   "execution_count": null,
   "metadata": {},
   "outputs": [],
   "source": [
    "df_merge_backup = df_merge.copy()\n",
    "df_merge.to_csv('mirai_ca_merged_chan.csv')"
   ]
  },
  {
   "cell_type": "code",
   "execution_count": null,
   "metadata": {},
   "outputs": [],
   "source": [
    "df_merge.shape"
   ]
  },
  {
   "cell_type": "code",
   "execution_count": null,
   "metadata": {},
   "outputs": [],
   "source": [
    "#find accessions that have multiple times to cancer (these are patients that have multiple cancer dates)\n",
    "df_merge.acc_anon.value_counts()"
   ]
  },
  {
   "cell_type": "code",
   "execution_count": null,
   "metadata": {
    "scrolled": false
   },
   "outputs": [],
   "source": [
    "#check one case to understand the times to cancer\n",
    "df_merge[df_merge.acc_anon==4165479590910937]"
   ]
  },
  {
   "cell_type": "code",
   "execution_count": null,
   "metadata": {},
   "outputs": [],
   "source": [
    "#create new df with the minimum time to cancer for each ACCESSION\n",
    "df_first_ca = pd.DataFrame(df_merge.groupby('acc_anon')['empi_anon','years_to_cancer','cancer_date'].min())\n",
    "print(df_first_ca.shape)\n",
    "df_first_ca.reset_index(inplace=True)\n",
    "print(df_first_ca.shape)"
   ]
  },
  {
   "cell_type": "code",
   "execution_count": null,
   "metadata": {},
   "outputs": [],
   "source": [
    "#recheck the same accession number and verify that the time to first cancer is now the first one\n",
    "df_first_ca[df_first_ca.acc_anon==5392289111777457]"
   ]
  },
  {
   "cell_type": "code",
   "execution_count": null,
   "metadata": {},
   "outputs": [],
   "source": [
    "#check all accessions for the same patient and make sure it makes sense\n",
    "df_first_ca[df_first_ca.empi_anon==44724913]"
   ]
  },
  {
   "cell_type": "code",
   "execution_count": null,
   "metadata": {},
   "outputs": [],
   "source": [
    "list(magview_all_cohorts_anon_ROI_HITI.columns)"
   ]
  },
  {
   "cell_type": "code",
   "execution_count": null,
   "metadata": {},
   "outputs": [],
   "source": [
    "#as a final check, investigate all ORIGINAL magview rows for this patient and see if results make sense\n",
    "magview_all_cohorts_anon_ROI_HITI[magview_all_cohorts_anon_ROI_HITI.empi_anon==44724913]"
   ]
  },
  {
   "cell_type": "code",
   "execution_count": null,
   "metadata": {},
   "outputs": [],
   "source": [
    "#merge back first cancer to each accession\n",
    "magcols=['empi_anon','acc_anon','study_date_anon','asses','desc','path1','procdate_anon','path_severity']\n",
    "    \n",
    "df_merge_first_ca = pd.merge(magview_all_cohorts_anon_ROI_HITI[magcols],df_first_ca[['acc_anon','years_to_cancer']],on='acc_anon',how='left')"
   ]
  },
  {
   "cell_type": "code",
   "execution_count": null,
   "metadata": {
    "scrolled": true
   },
   "outputs": [],
   "source": [
    "#recheck the same patient\n",
    "df_merge_first_ca[df_merge_first_ca.empi_anon==44724913]"
   ]
  },
  {
   "cell_type": "code",
   "execution_count": null,
   "metadata": {},
   "outputs": [],
   "source": [
    "#recheck only screens for same patient\n",
    "df_screens_first_ca = df_merge_first_ca[df_merge_first_ca.desc.str.contains('screen',case=False)]\n",
    "df_screens_first_ca[df_screens_first_ca.empi_anon==44724913]"
   ]
  },
  {
   "cell_type": "code",
   "execution_count": null,
   "metadata": {},
   "outputs": [],
   "source": [
    "print(df_screens_first_ca.shape)\n",
    "df_screens_first_ca_unique=df_screens_first_ca.drop_duplicates(subset='acc_anon')\n",
    "print(df_screens_first_ca_unique.shape)"
   ]
  },
  {
   "cell_type": "code",
   "execution_count": null,
   "metadata": {},
   "outputs": [],
   "source": [
    "df_screens_first_ca_unique[df_screens_first_ca.empi_anon==44724913]"
   ]
  },
  {
   "cell_type": "code",
   "execution_count": null,
   "metadata": {},
   "outputs": [],
   "source": [
    "print(metadata_all_cohorts_ROI_HITI.shape)\n",
    "df_meta_2d = metadata_all_cohorts_ROI_HITI[metadata_all_cohorts_ROI_HITI.FinalImageType=='2D']\n",
    "print(df_meta_2d.shape)"
   ]
  },
  {
   "cell_type": "code",
   "execution_count": null,
   "metadata": {},
   "outputs": [],
   "source": [
    "metacols= ['acc_anon','FinalImageType','ImageLaterality','ViewPosition','png_path','filename']\n",
    "df_file_list = pd.merge(df_screens_first_ca_unique,df_meta_2d[metacols],on='acc_anon',how='inner')"
   ]
  },
  {
   "cell_type": "code",
   "execution_count": null,
   "metadata": {},
   "outputs": [],
   "source": [
    "print(df_file_list.shape)\n",
    "df_file_list.drop_duplicates(subset='filename',inplace=True)\n",
    "print(df_file_list.shape)"
   ]
  },
  {
   "cell_type": "code",
   "execution_count": null,
   "metadata": {},
   "outputs": [],
   "source": [
    "cols=['empi_anon','desc','study_date_anon','acc_anon','FinalImageType','ImageLaterality','ViewPosition','png_path','filename','years_to_cancer']\n",
    "list(df_file_list.head(100)['png_path'])"
   ]
  },
  {
   "cell_type": "code",
   "execution_count": null,
   "metadata": {},
   "outputs": [],
   "source": [
    "metadata_all_cohorts_ROI_HITI[metadata_all_cohorts_ROI_HITI==3065491565033830]"
   ]
  },
  {
   "cell_type": "code",
   "execution_count": null,
   "metadata": {},
   "outputs": [],
   "source": []
  },
  {
   "cell_type": "code",
   "execution_count": null,
   "metadata": {},
   "outputs": [],
   "source": [
    "df_last_exam = pd.DataFrame(df_merge.groupby('empi_anon').study_date_anon_dt.max())\n",
    "df_last_exam.reset_index(inplace=True)\n",
    "df_last_exam.columns=(['empi_anon','last_study_date'])\n",
    "df_last_exam.sample(3)"
   ]
  },
  {
   "cell_type": "code",
   "execution_count": null,
   "metadata": {},
   "outputs": [],
   "source": [
    "df_merge = pd.merge(df_merge,df_last_exam,on='empi_anon', how='left')\n",
    "##last study date anon dt was merged to the df_merge by left join."
   ]
  },
  {
   "cell_type": "code",
   "execution_count": null,
   "metadata": {},
   "outputs": [],
   "source": [
    "df_merge['years_to_last_followup'] = df_merge.last_study_date - df_merge.study_date_anon_dt\n",
    "df_merge['years_to_last_followup'] = (df_merge['years_to_last_followup'].dt.days / (365.25))\n"
   ]
  },
  {
   "cell_type": "code",
   "execution_count": null,
   "metadata": {},
   "outputs": [],
   "source": [
    "df_merge.years_to_last_followup.value_counts()"
   ]
  },
  {
   "cell_type": "code",
   "execution_count": null,
   "metadata": {},
   "outputs": [],
   "source": [
    "df_merge['split_group'] = ''\n",
    "# split_group column is added."
   ]
  },
  {
   "cell_type": "code",
   "execution_count": null,
   "metadata": {},
   "outputs": [],
   "source": [
    "df_merge.loc[df_merge.cohort_num <= 6,'split_group'] = 'train'\n",
    "# train label is labelled between 1 and 6 of cohort number"
   ]
  },
  {
   "cell_type": "code",
   "execution_count": null,
   "metadata": {},
   "outputs": [],
   "source": [
    "df_merge.loc[df_merge.cohort_num.isin([7,8]),'split_group'] = 'dev'\n",
    "# dev label is labelled between 7 and 8 of cohort number"
   ]
  },
  {
   "cell_type": "code",
   "execution_count": null,
   "metadata": {},
   "outputs": [],
   "source": [
    "df_merge.loc[df_merge.cohort_num.isin([9,10]),'split_group'] = 'test'\n",
    "# test label is labelled between 9 and 10 of cohort number"
   ]
  },
  {
   "cell_type": "code",
   "execution_count": null,
   "metadata": {},
   "outputs": [],
   "source": [
    "df_merge.split_group.value_counts()"
   ]
  },
  {
   "cell_type": "code",
   "execution_count": null,
   "metadata": {},
   "outputs": [],
   "source": [
    "df_meta_columns = metadata_all_cohorts_ROI_HITI[['acc_anon','FinalImageType','ImageLaterality','ViewPosition','png_path']]"
   ]
  },
  {
   "cell_type": "code",
   "execution_count": null,
   "metadata": {},
   "outputs": [],
   "source": [
    "df_meta_columns = df_meta_columns[df_meta_columns.FinalImageType=='2D']\n",
    "##Filtered out all other pngs except for '2D'"
   ]
  },
  {
   "cell_type": "code",
   "execution_count": null,
   "metadata": {},
   "outputs": [],
   "source": [
    "# df_meta_columns['acc_anon'] = df_meta_columns['acc_anon'].astype(str)\n",
    "# df_meta_columns = df_meta_columns.astype({'acc_anon':'string'})\n",
    "df_meta_columns = df_meta_columns.astype({'acc_anon':'string', 'FinalImageType':'string', 'ImageLaterality':'string', 'ViewPosition':'string', 'png_path':'string'})"
   ]
  },
  {
   "cell_type": "code",
   "execution_count": null,
   "metadata": {},
   "outputs": [],
   "source": [
    "df_meta_columns.head(10)"
   ]
  },
  {
   "cell_type": "code",
   "execution_count": null,
   "metadata": {},
   "outputs": [],
   "source": [
    "# df_merge['acc_anon'] = df_merge['acc_anon'].astype(str)\n",
    "\n",
    "# df_merge = df_merge.astype({'acc_anon':'string'})"
   ]
  },
  {
   "cell_type": "code",
   "execution_count": null,
   "metadata": {},
   "outputs": [],
   "source": [
    "df_merge_subset = df_merge[['empi_anon', 'acc_anon', 'years_to_cancer','years_to_last_followup', 'split_group']]"
   ]
  },
  {
   "cell_type": "code",
   "execution_count": null,
   "metadata": {},
   "outputs": [],
   "source": [
    "df_merge_subset = df_merge_subset.astype({'empi_anon':'string', 'acc_anon':'string', 'years_to_cancer':'string', 'years_to_last_followup':'string', 'split_group':'string'})"
   ]
  },
  {
   "cell_type": "code",
   "execution_count": 71,
   "metadata": {},
   "outputs": [
    {
     "data": {
      "text/plain": [
       "empi_anon                 string\n",
       "acc_anon                  string\n",
       "years_to_cancer           string\n",
       "years_to_last_followup    string\n",
       "split_group               string\n",
       "dtype: object"
      ]
     },
     "execution_count": 71,
     "metadata": {},
     "output_type": "execute_result"
    }
   ],
   "source": [
    "df_merge_subset.dtypes"
   ]
  },
  {
   "cell_type": "code",
   "execution_count": 72,
   "metadata": {},
   "outputs": [],
   "source": [
    "df_files = pd.merge(df_merge_subset,df_meta_columns,on='acc_anon',how='left')\n",
    "# added empi, image laterality, view position, png_path columns are added from Metadata file to magview by \n",
    "# left join based on acc_anon as a primary key."
   ]
  },
  {
   "cell_type": "code",
   "execution_count": 73,
   "metadata": {},
   "outputs": [
    {
     "data": {
      "text/plain": [
       "(2027050, 9)"
      ]
     },
     "execution_count": 73,
     "metadata": {},
     "output_type": "execute_result"
    }
   ],
   "source": [
    "df_files.shape"
   ]
  },
  {
   "cell_type": "code",
   "execution_count": 74,
   "metadata": {
    "scrolled": true
   },
   "outputs": [
    {
     "data": {
      "text/html": [
       "<div>\n",
       "<style scoped>\n",
       "    .dataframe tbody tr th:only-of-type {\n",
       "        vertical-align: middle;\n",
       "    }\n",
       "\n",
       "    .dataframe tbody tr th {\n",
       "        vertical-align: top;\n",
       "    }\n",
       "\n",
       "    .dataframe thead th {\n",
       "        text-align: right;\n",
       "    }\n",
       "</style>\n",
       "<table border=\"1\" class=\"dataframe\">\n",
       "  <thead>\n",
       "    <tr style=\"text-align: right;\">\n",
       "      <th></th>\n",
       "      <th>empi_anon</th>\n",
       "      <th>acc_anon</th>\n",
       "      <th>years_to_cancer</th>\n",
       "      <th>years_to_last_followup</th>\n",
       "      <th>split_group</th>\n",
       "      <th>FinalImageType</th>\n",
       "      <th>ImageLaterality</th>\n",
       "      <th>ViewPosition</th>\n",
       "      <th>png_path</th>\n",
       "    </tr>\n",
       "  </thead>\n",
       "  <tbody>\n",
       "    <tr>\n",
       "      <th>0</th>\n",
       "      <td>39849800</td>\n",
       "      <td>1734930095489167</td>\n",
       "      <td>100.0</td>\n",
       "      <td>6.272416153319644</td>\n",
       "      <td>train</td>\n",
       "      <td>&lt;NA&gt;</td>\n",
       "      <td>&lt;NA&gt;</td>\n",
       "      <td>&lt;NA&gt;</td>\n",
       "      <td>&lt;NA&gt;</td>\n",
       "    </tr>\n",
       "    <tr>\n",
       "      <th>1</th>\n",
       "      <td>39849800</td>\n",
       "      <td>1734930095489167</td>\n",
       "      <td>100.0</td>\n",
       "      <td>6.272416153319644</td>\n",
       "      <td>train</td>\n",
       "      <td>&lt;NA&gt;</td>\n",
       "      <td>&lt;NA&gt;</td>\n",
       "      <td>&lt;NA&gt;</td>\n",
       "      <td>&lt;NA&gt;</td>\n",
       "    </tr>\n",
       "    <tr>\n",
       "      <th>2</th>\n",
       "      <td>64383145</td>\n",
       "      <td>9568336662008394</td>\n",
       "      <td>100.0</td>\n",
       "      <td>7.107460643394935</td>\n",
       "      <td>train</td>\n",
       "      <td>&lt;NA&gt;</td>\n",
       "      <td>&lt;NA&gt;</td>\n",
       "      <td>&lt;NA&gt;</td>\n",
       "      <td>&lt;NA&gt;</td>\n",
       "    </tr>\n",
       "    <tr>\n",
       "      <th>3</th>\n",
       "      <td>47229065</td>\n",
       "      <td>5874208938464010</td>\n",
       "      <td>100.0</td>\n",
       "      <td>7.529089664613279</td>\n",
       "      <td>train</td>\n",
       "      <td>&lt;NA&gt;</td>\n",
       "      <td>&lt;NA&gt;</td>\n",
       "      <td>&lt;NA&gt;</td>\n",
       "      <td>&lt;NA&gt;</td>\n",
       "    </tr>\n",
       "    <tr>\n",
       "      <th>4</th>\n",
       "      <td>46004361</td>\n",
       "      <td>3168756245342345</td>\n",
       "      <td>100.0</td>\n",
       "      <td>2.2039698836413417</td>\n",
       "      <td>train</td>\n",
       "      <td>&lt;NA&gt;</td>\n",
       "      <td>&lt;NA&gt;</td>\n",
       "      <td>&lt;NA&gt;</td>\n",
       "      <td>&lt;NA&gt;</td>\n",
       "    </tr>\n",
       "    <tr>\n",
       "      <th>5</th>\n",
       "      <td>46004361</td>\n",
       "      <td>6868260417952535</td>\n",
       "      <td>100.0</td>\n",
       "      <td>2.7132101300479126</td>\n",
       "      <td>train</td>\n",
       "      <td>&lt;NA&gt;</td>\n",
       "      <td>&lt;NA&gt;</td>\n",
       "      <td>&lt;NA&gt;</td>\n",
       "      <td>&lt;NA&gt;</td>\n",
       "    </tr>\n",
       "    <tr>\n",
       "      <th>6</th>\n",
       "      <td>46004361</td>\n",
       "      <td>6868260417952535</td>\n",
       "      <td>100.0</td>\n",
       "      <td>2.7132101300479126</td>\n",
       "      <td>train</td>\n",
       "      <td>&lt;NA&gt;</td>\n",
       "      <td>&lt;NA&gt;</td>\n",
       "      <td>&lt;NA&gt;</td>\n",
       "      <td>&lt;NA&gt;</td>\n",
       "    </tr>\n",
       "    <tr>\n",
       "      <th>7</th>\n",
       "      <td>46004361</td>\n",
       "      <td>6868260417952535</td>\n",
       "      <td>100.0</td>\n",
       "      <td>2.7132101300479126</td>\n",
       "      <td>train</td>\n",
       "      <td>&lt;NA&gt;</td>\n",
       "      <td>&lt;NA&gt;</td>\n",
       "      <td>&lt;NA&gt;</td>\n",
       "      <td>&lt;NA&gt;</td>\n",
       "    </tr>\n",
       "    <tr>\n",
       "      <th>8</th>\n",
       "      <td>46004361</td>\n",
       "      <td>1690271690233973</td>\n",
       "      <td>100.0</td>\n",
       "      <td>2.7433264887063653</td>\n",
       "      <td>train</td>\n",
       "      <td>&lt;NA&gt;</td>\n",
       "      <td>&lt;NA&gt;</td>\n",
       "      <td>&lt;NA&gt;</td>\n",
       "      <td>&lt;NA&gt;</td>\n",
       "    </tr>\n",
       "    <tr>\n",
       "      <th>9</th>\n",
       "      <td>46004361</td>\n",
       "      <td>1690271690233973</td>\n",
       "      <td>100.0</td>\n",
       "      <td>2.7433264887063653</td>\n",
       "      <td>train</td>\n",
       "      <td>&lt;NA&gt;</td>\n",
       "      <td>&lt;NA&gt;</td>\n",
       "      <td>&lt;NA&gt;</td>\n",
       "      <td>&lt;NA&gt;</td>\n",
       "    </tr>\n",
       "  </tbody>\n",
       "</table>\n",
       "</div>"
      ],
      "text/plain": [
       "  empi_anon          acc_anon years_to_cancer years_to_last_followup  \\\n",
       "0  39849800  1734930095489167           100.0      6.272416153319644   \n",
       "1  39849800  1734930095489167           100.0      6.272416153319644   \n",
       "2  64383145  9568336662008394           100.0      7.107460643394935   \n",
       "3  47229065  5874208938464010           100.0      7.529089664613279   \n",
       "4  46004361  3168756245342345           100.0     2.2039698836413417   \n",
       "5  46004361  6868260417952535           100.0     2.7132101300479126   \n",
       "6  46004361  6868260417952535           100.0     2.7132101300479126   \n",
       "7  46004361  6868260417952535           100.0     2.7132101300479126   \n",
       "8  46004361  1690271690233973           100.0     2.7433264887063653   \n",
       "9  46004361  1690271690233973           100.0     2.7433264887063653   \n",
       "\n",
       "  split_group FinalImageType ImageLaterality ViewPosition png_path  \n",
       "0       train           <NA>            <NA>         <NA>     <NA>  \n",
       "1       train           <NA>            <NA>         <NA>     <NA>  \n",
       "2       train           <NA>            <NA>         <NA>     <NA>  \n",
       "3       train           <NA>            <NA>         <NA>     <NA>  \n",
       "4       train           <NA>            <NA>         <NA>     <NA>  \n",
       "5       train           <NA>            <NA>         <NA>     <NA>  \n",
       "6       train           <NA>            <NA>         <NA>     <NA>  \n",
       "7       train           <NA>            <NA>         <NA>     <NA>  \n",
       "8       train           <NA>            <NA>         <NA>     <NA>  \n",
       "9       train           <NA>            <NA>         <NA>     <NA>  "
      ]
     },
     "execution_count": 74,
     "metadata": {},
     "output_type": "execute_result"
    }
   ],
   "source": [
    "df_files.head(10)"
   ]
  },
  {
   "cell_type": "code",
   "execution_count": 75,
   "metadata": {},
   "outputs": [],
   "source": [
    "df_files = df_files.dropna()"
   ]
  },
  {
   "cell_type": "code",
   "execution_count": 76,
   "metadata": {},
   "outputs": [
    {
     "data": {
      "text/plain": [
       "(1964300, 9)"
      ]
     },
     "execution_count": 76,
     "metadata": {},
     "output_type": "execute_result"
    }
   ],
   "source": [
    "df_files.shape\n",
    "##any NAN included values are all dropped to prevent possible errors\n",
    "## after this operation, years_to_last_follow_up column has only zeros."
   ]
  },
  {
   "cell_type": "code",
   "execution_count": 77,
   "metadata": {},
   "outputs": [
    {
     "data": {
      "text/html": [
       "<div>\n",
       "<style scoped>\n",
       "    .dataframe tbody tr th:only-of-type {\n",
       "        vertical-align: middle;\n",
       "    }\n",
       "\n",
       "    .dataframe tbody tr th {\n",
       "        vertical-align: top;\n",
       "    }\n",
       "\n",
       "    .dataframe thead th {\n",
       "        text-align: right;\n",
       "    }\n",
       "</style>\n",
       "<table border=\"1\" class=\"dataframe\">\n",
       "  <thead>\n",
       "    <tr style=\"text-align: right;\">\n",
       "      <th></th>\n",
       "      <th>empi_anon</th>\n",
       "      <th>acc_anon</th>\n",
       "      <th>ImageLaterality</th>\n",
       "      <th>ViewPosition</th>\n",
       "      <th>png_path</th>\n",
       "      <th>years_to_cancer</th>\n",
       "      <th>years_to_last_followup</th>\n",
       "      <th>split_group</th>\n",
       "    </tr>\n",
       "  </thead>\n",
       "  <tbody>\n",
       "    <tr>\n",
       "      <th>115</th>\n",
       "      <td>60696029</td>\n",
       "      <td>8099128854014801</td>\n",
       "      <td>R</td>\n",
       "      <td>MLO</td>\n",
       "      <td>/data/mammo/png_kheiron/kheiron_code/cohort_1/...</td>\n",
       "      <td>100.0</td>\n",
       "      <td>5.711156741957564</td>\n",
       "      <td>train</td>\n",
       "    </tr>\n",
       "    <tr>\n",
       "      <th>116</th>\n",
       "      <td>60696029</td>\n",
       "      <td>8099128854014801</td>\n",
       "      <td>R</td>\n",
       "      <td>MLO</td>\n",
       "      <td>/data/mammo/png_kheiron/kheiron_code/cohort_1/...</td>\n",
       "      <td>100.0</td>\n",
       "      <td>5.711156741957564</td>\n",
       "      <td>train</td>\n",
       "    </tr>\n",
       "    <tr>\n",
       "      <th>117</th>\n",
       "      <td>60696029</td>\n",
       "      <td>8099128854014801</td>\n",
       "      <td>R</td>\n",
       "      <td>CC</td>\n",
       "      <td>/data/mammo/png_kheiron/kheiron_code/cohort_1/...</td>\n",
       "      <td>100.0</td>\n",
       "      <td>5.711156741957564</td>\n",
       "      <td>train</td>\n",
       "    </tr>\n",
       "    <tr>\n",
       "      <th>123</th>\n",
       "      <td>90986305</td>\n",
       "      <td>5156106114290009</td>\n",
       "      <td>L</td>\n",
       "      <td>MLO</td>\n",
       "      <td>/data/mammo/png_kheiron/kheiron_code/cohort_1/...</td>\n",
       "      <td>100.0</td>\n",
       "      <td>0.0</td>\n",
       "      <td>train</td>\n",
       "    </tr>\n",
       "    <tr>\n",
       "      <th>124</th>\n",
       "      <td>90986305</td>\n",
       "      <td>5156106114290009</td>\n",
       "      <td>L</td>\n",
       "      <td>CC</td>\n",
       "      <td>/data/mammo/png_kheiron/kheiron_code/cohort_1/...</td>\n",
       "      <td>100.0</td>\n",
       "      <td>0.0</td>\n",
       "      <td>train</td>\n",
       "    </tr>\n",
       "    <tr>\n",
       "      <th>126</th>\n",
       "      <td>78097721</td>\n",
       "      <td>3065491565033830</td>\n",
       "      <td>R</td>\n",
       "      <td>CC</td>\n",
       "      <td>/data/mammo/png_kheiron/kheiron_code/cohort_1/...</td>\n",
       "      <td>100.0</td>\n",
       "      <td>6.496919917864476</td>\n",
       "      <td>train</td>\n",
       "    </tr>\n",
       "    <tr>\n",
       "      <th>127</th>\n",
       "      <td>78097721</td>\n",
       "      <td>3065491565033830</td>\n",
       "      <td>L</td>\n",
       "      <td>CC</td>\n",
       "      <td>/data/mammo/png_kheiron/kheiron_code/cohort_1/...</td>\n",
       "      <td>100.0</td>\n",
       "      <td>6.496919917864476</td>\n",
       "      <td>train</td>\n",
       "    </tr>\n",
       "    <tr>\n",
       "      <th>128</th>\n",
       "      <td>78097721</td>\n",
       "      <td>3065491565033830</td>\n",
       "      <td>L</td>\n",
       "      <td>MLO</td>\n",
       "      <td>/data/mammo/png_kheiron/kheiron_code/cohort_1/...</td>\n",
       "      <td>100.0</td>\n",
       "      <td>6.496919917864476</td>\n",
       "      <td>train</td>\n",
       "    </tr>\n",
       "    <tr>\n",
       "      <th>129</th>\n",
       "      <td>78097721</td>\n",
       "      <td>3065491565033830</td>\n",
       "      <td>L</td>\n",
       "      <td>MLO</td>\n",
       "      <td>/data/mammo/png_kheiron/kheiron_code/cohort_1/...</td>\n",
       "      <td>100.0</td>\n",
       "      <td>6.496919917864476</td>\n",
       "      <td>train</td>\n",
       "    </tr>\n",
       "    <tr>\n",
       "      <th>130</th>\n",
       "      <td>78097721</td>\n",
       "      <td>3065491565033830</td>\n",
       "      <td>L</td>\n",
       "      <td>MLO</td>\n",
       "      <td>/data/mammo/png_kheiron/kheiron_code/cohort_1/...</td>\n",
       "      <td>100.0</td>\n",
       "      <td>6.496919917864476</td>\n",
       "      <td>train</td>\n",
       "    </tr>\n",
       "  </tbody>\n",
       "</table>\n",
       "</div>"
      ],
      "text/plain": [
       "    empi_anon          acc_anon ImageLaterality ViewPosition  \\\n",
       "115  60696029  8099128854014801               R          MLO   \n",
       "116  60696029  8099128854014801               R          MLO   \n",
       "117  60696029  8099128854014801               R           CC   \n",
       "123  90986305  5156106114290009               L          MLO   \n",
       "124  90986305  5156106114290009               L           CC   \n",
       "126  78097721  3065491565033830               R           CC   \n",
       "127  78097721  3065491565033830               L           CC   \n",
       "128  78097721  3065491565033830               L          MLO   \n",
       "129  78097721  3065491565033830               L          MLO   \n",
       "130  78097721  3065491565033830               L          MLO   \n",
       "\n",
       "                                              png_path years_to_cancer  \\\n",
       "115  /data/mammo/png_kheiron/kheiron_code/cohort_1/...           100.0   \n",
       "116  /data/mammo/png_kheiron/kheiron_code/cohort_1/...           100.0   \n",
       "117  /data/mammo/png_kheiron/kheiron_code/cohort_1/...           100.0   \n",
       "123  /data/mammo/png_kheiron/kheiron_code/cohort_1/...           100.0   \n",
       "124  /data/mammo/png_kheiron/kheiron_code/cohort_1/...           100.0   \n",
       "126  /data/mammo/png_kheiron/kheiron_code/cohort_1/...           100.0   \n",
       "127  /data/mammo/png_kheiron/kheiron_code/cohort_1/...           100.0   \n",
       "128  /data/mammo/png_kheiron/kheiron_code/cohort_1/...           100.0   \n",
       "129  /data/mammo/png_kheiron/kheiron_code/cohort_1/...           100.0   \n",
       "130  /data/mammo/png_kheiron/kheiron_code/cohort_1/...           100.0   \n",
       "\n",
       "    years_to_last_followup split_group  \n",
       "115      5.711156741957564       train  \n",
       "116      5.711156741957564       train  \n",
       "117      5.711156741957564       train  \n",
       "123                    0.0       train  \n",
       "124                    0.0       train  \n",
       "126      6.496919917864476       train  \n",
       "127      6.496919917864476       train  \n",
       "128      6.496919917864476       train  \n",
       "129      6.496919917864476       train  \n",
       "130      6.496919917864476       train  "
      ]
     },
     "execution_count": 77,
     "metadata": {},
     "output_type": "execute_result"
    }
   ],
   "source": [
    "sampleCsv = df_files[['empi_anon', 'acc_anon', 'ImageLaterality', 'ViewPosition', 'png_path', 'years_to_cancer','years_to_last_followup', 'split_group']]\n",
    "sampleCsv.head(10)"
   ]
  },
  {
   "cell_type": "code",
   "execution_count": 78,
   "metadata": {},
   "outputs": [],
   "source": [
    "sampleCsv.columns = ['patient_id', 'exam_id', 'laterality', 'view','file_path','years_to_cancer','years_to_last_followup','split_group']"
   ]
  },
  {
   "cell_type": "code",
   "execution_count": 79,
   "metadata": {},
   "outputs": [
    {
     "data": {
      "text/plain": [
       "(1964300, 8)"
      ]
     },
     "execution_count": 79,
     "metadata": {},
     "output_type": "execute_result"
    }
   ],
   "source": [
    "sampleCsv.shape"
   ]
  },
  {
   "cell_type": "code",
   "execution_count": 80,
   "metadata": {},
   "outputs": [
    {
     "data": {
      "text/html": [
       "<div>\n",
       "<style scoped>\n",
       "    .dataframe tbody tr th:only-of-type {\n",
       "        vertical-align: middle;\n",
       "    }\n",
       "\n",
       "    .dataframe tbody tr th {\n",
       "        vertical-align: top;\n",
       "    }\n",
       "\n",
       "    .dataframe thead th {\n",
       "        text-align: right;\n",
       "    }\n",
       "</style>\n",
       "<table border=\"1\" class=\"dataframe\">\n",
       "  <thead>\n",
       "    <tr style=\"text-align: right;\">\n",
       "      <th></th>\n",
       "      <th>patient_id</th>\n",
       "      <th>exam_id</th>\n",
       "      <th>laterality</th>\n",
       "      <th>view</th>\n",
       "      <th>file_path</th>\n",
       "      <th>years_to_cancer</th>\n",
       "      <th>years_to_last_followup</th>\n",
       "      <th>split_group</th>\n",
       "    </tr>\n",
       "  </thead>\n",
       "  <tbody>\n",
       "    <tr>\n",
       "      <th>115</th>\n",
       "      <td>60696029</td>\n",
       "      <td>8099128854014801</td>\n",
       "      <td>R</td>\n",
       "      <td>MLO</td>\n",
       "      <td>/data/mammo/png_kheiron/kheiron_code/cohort_1/...</td>\n",
       "      <td>100.0</td>\n",
       "      <td>5.711156741957564</td>\n",
       "      <td>train</td>\n",
       "    </tr>\n",
       "    <tr>\n",
       "      <th>116</th>\n",
       "      <td>60696029</td>\n",
       "      <td>8099128854014801</td>\n",
       "      <td>R</td>\n",
       "      <td>MLO</td>\n",
       "      <td>/data/mammo/png_kheiron/kheiron_code/cohort_1/...</td>\n",
       "      <td>100.0</td>\n",
       "      <td>5.711156741957564</td>\n",
       "      <td>train</td>\n",
       "    </tr>\n",
       "    <tr>\n",
       "      <th>117</th>\n",
       "      <td>60696029</td>\n",
       "      <td>8099128854014801</td>\n",
       "      <td>R</td>\n",
       "      <td>CC</td>\n",
       "      <td>/data/mammo/png_kheiron/kheiron_code/cohort_1/...</td>\n",
       "      <td>100.0</td>\n",
       "      <td>5.711156741957564</td>\n",
       "      <td>train</td>\n",
       "    </tr>\n",
       "    <tr>\n",
       "      <th>123</th>\n",
       "      <td>90986305</td>\n",
       "      <td>5156106114290009</td>\n",
       "      <td>L</td>\n",
       "      <td>MLO</td>\n",
       "      <td>/data/mammo/png_kheiron/kheiron_code/cohort_1/...</td>\n",
       "      <td>100.0</td>\n",
       "      <td>0.0</td>\n",
       "      <td>train</td>\n",
       "    </tr>\n",
       "    <tr>\n",
       "      <th>124</th>\n",
       "      <td>90986305</td>\n",
       "      <td>5156106114290009</td>\n",
       "      <td>L</td>\n",
       "      <td>CC</td>\n",
       "      <td>/data/mammo/png_kheiron/kheiron_code/cohort_1/...</td>\n",
       "      <td>100.0</td>\n",
       "      <td>0.0</td>\n",
       "      <td>train</td>\n",
       "    </tr>\n",
       "    <tr>\n",
       "      <th>...</th>\n",
       "      <td>...</td>\n",
       "      <td>...</td>\n",
       "      <td>...</td>\n",
       "      <td>...</td>\n",
       "      <td>...</td>\n",
       "      <td>...</td>\n",
       "      <td>...</td>\n",
       "      <td>...</td>\n",
       "    </tr>\n",
       "    <tr>\n",
       "      <th>2027039</th>\n",
       "      <td>99868531</td>\n",
       "      <td>2145477352100012</td>\n",
       "      <td>R</td>\n",
       "      <td>ML</td>\n",
       "      <td>/data/mammo/png_kheiron/kheiron_code/cohort_1/...</td>\n",
       "      <td>0.019164955509924708</td>\n",
       "      <td>0.0</td>\n",
       "      <td>train</td>\n",
       "    </tr>\n",
       "    <tr>\n",
       "      <th>2027040</th>\n",
       "      <td>99868531</td>\n",
       "      <td>2145477352100012</td>\n",
       "      <td>L</td>\n",
       "      <td>ML</td>\n",
       "      <td>/data/mammo/png_kheiron/kheiron_code/cohort_1/...</td>\n",
       "      <td>0.019164955509924708</td>\n",
       "      <td>0.0</td>\n",
       "      <td>train</td>\n",
       "    </tr>\n",
       "    <tr>\n",
       "      <th>2027041</th>\n",
       "      <td>99868531</td>\n",
       "      <td>2145477352100012</td>\n",
       "      <td>L</td>\n",
       "      <td>CC</td>\n",
       "      <td>/data/mammo/png_kheiron/kheiron_code/cohort_1/...</td>\n",
       "      <td>0.019164955509924708</td>\n",
       "      <td>0.0</td>\n",
       "      <td>train</td>\n",
       "    </tr>\n",
       "    <tr>\n",
       "      <th>2027042</th>\n",
       "      <td>99868531</td>\n",
       "      <td>2145477352100012</td>\n",
       "      <td>R</td>\n",
       "      <td>ML</td>\n",
       "      <td>/data/mammo/png_kheiron/kheiron_code/cohort_1/...</td>\n",
       "      <td>0.019164955509924708</td>\n",
       "      <td>0.0</td>\n",
       "      <td>train</td>\n",
       "    </tr>\n",
       "    <tr>\n",
       "      <th>2027043</th>\n",
       "      <td>99868531</td>\n",
       "      <td>2145477352100012</td>\n",
       "      <td>L</td>\n",
       "      <td>ML</td>\n",
       "      <td>/data/mammo/png_kheiron/kheiron_code/cohort_1/...</td>\n",
       "      <td>0.019164955509924708</td>\n",
       "      <td>0.0</td>\n",
       "      <td>train</td>\n",
       "    </tr>\n",
       "  </tbody>\n",
       "</table>\n",
       "<p>1711741 rows × 8 columns</p>\n",
       "</div>"
      ],
      "text/plain": [
       "        patient_id           exam_id laterality view  \\\n",
       "115       60696029  8099128854014801          R  MLO   \n",
       "116       60696029  8099128854014801          R  MLO   \n",
       "117       60696029  8099128854014801          R   CC   \n",
       "123       90986305  5156106114290009          L  MLO   \n",
       "124       90986305  5156106114290009          L   CC   \n",
       "...            ...               ...        ...  ...   \n",
       "2027039   99868531  2145477352100012          R   ML   \n",
       "2027040   99868531  2145477352100012          L   ML   \n",
       "2027041   99868531  2145477352100012          L   CC   \n",
       "2027042   99868531  2145477352100012          R   ML   \n",
       "2027043   99868531  2145477352100012          L   ML   \n",
       "\n",
       "                                                 file_path  \\\n",
       "115      /data/mammo/png_kheiron/kheiron_code/cohort_1/...   \n",
       "116      /data/mammo/png_kheiron/kheiron_code/cohort_1/...   \n",
       "117      /data/mammo/png_kheiron/kheiron_code/cohort_1/...   \n",
       "123      /data/mammo/png_kheiron/kheiron_code/cohort_1/...   \n",
       "124      /data/mammo/png_kheiron/kheiron_code/cohort_1/...   \n",
       "...                                                    ...   \n",
       "2027039  /data/mammo/png_kheiron/kheiron_code/cohort_1/...   \n",
       "2027040  /data/mammo/png_kheiron/kheiron_code/cohort_1/...   \n",
       "2027041  /data/mammo/png_kheiron/kheiron_code/cohort_1/...   \n",
       "2027042  /data/mammo/png_kheiron/kheiron_code/cohort_1/...   \n",
       "2027043  /data/mammo/png_kheiron/kheiron_code/cohort_1/...   \n",
       "\n",
       "              years_to_cancer years_to_last_followup split_group  \n",
       "115                     100.0      5.711156741957564       train  \n",
       "116                     100.0      5.711156741957564       train  \n",
       "117                     100.0      5.711156741957564       train  \n",
       "123                     100.0                    0.0       train  \n",
       "124                     100.0                    0.0       train  \n",
       "...                       ...                    ...         ...  \n",
       "2027039  0.019164955509924708                    0.0       train  \n",
       "2027040  0.019164955509924708                    0.0       train  \n",
       "2027041  0.019164955509924708                    0.0       train  \n",
       "2027042  0.019164955509924708                    0.0       train  \n",
       "2027043  0.019164955509924708                    0.0       train  \n",
       "\n",
       "[1711741 rows x 8 columns]"
      ]
     },
     "execution_count": 80,
     "metadata": {},
     "output_type": "execute_result"
    }
   ],
   "source": [
    "sampleCsv.drop_duplicates()\n"
   ]
  },
  {
   "cell_type": "code",
   "execution_count": 81,
   "metadata": {},
   "outputs": [
    {
     "data": {
      "text/html": [
       "<div>\n",
       "<style scoped>\n",
       "    .dataframe tbody tr th:only-of-type {\n",
       "        vertical-align: middle;\n",
       "    }\n",
       "\n",
       "    .dataframe tbody tr th {\n",
       "        vertical-align: top;\n",
       "    }\n",
       "\n",
       "    .dataframe thead th {\n",
       "        text-align: right;\n",
       "    }\n",
       "</style>\n",
       "<table border=\"1\" class=\"dataframe\">\n",
       "  <thead>\n",
       "    <tr style=\"text-align: right;\">\n",
       "      <th></th>\n",
       "      <th>patient_id</th>\n",
       "      <th>exam_id</th>\n",
       "      <th>laterality</th>\n",
       "      <th>view</th>\n",
       "      <th>file_path</th>\n",
       "      <th>years_to_cancer</th>\n",
       "      <th>years_to_last_followup</th>\n",
       "      <th>split_group</th>\n",
       "    </tr>\n",
       "  </thead>\n",
       "  <tbody>\n",
       "    <tr>\n",
       "      <th>115</th>\n",
       "      <td>60696029</td>\n",
       "      <td>8099128854014801</td>\n",
       "      <td>R</td>\n",
       "      <td>MLO</td>\n",
       "      <td>/data/mammo/png_kheiron/kheiron_code/cohort_1/...</td>\n",
       "      <td>100.0</td>\n",
       "      <td>5.711156741957564</td>\n",
       "      <td>train</td>\n",
       "    </tr>\n",
       "    <tr>\n",
       "      <th>116</th>\n",
       "      <td>60696029</td>\n",
       "      <td>8099128854014801</td>\n",
       "      <td>R</td>\n",
       "      <td>MLO</td>\n",
       "      <td>/data/mammo/png_kheiron/kheiron_code/cohort_1/...</td>\n",
       "      <td>100.0</td>\n",
       "      <td>5.711156741957564</td>\n",
       "      <td>train</td>\n",
       "    </tr>\n",
       "    <tr>\n",
       "      <th>117</th>\n",
       "      <td>60696029</td>\n",
       "      <td>8099128854014801</td>\n",
       "      <td>R</td>\n",
       "      <td>CC</td>\n",
       "      <td>/data/mammo/png_kheiron/kheiron_code/cohort_1/...</td>\n",
       "      <td>100.0</td>\n",
       "      <td>5.711156741957564</td>\n",
       "      <td>train</td>\n",
       "    </tr>\n",
       "    <tr>\n",
       "      <th>123</th>\n",
       "      <td>90986305</td>\n",
       "      <td>5156106114290009</td>\n",
       "      <td>L</td>\n",
       "      <td>MLO</td>\n",
       "      <td>/data/mammo/png_kheiron/kheiron_code/cohort_1/...</td>\n",
       "      <td>100.0</td>\n",
       "      <td>0.0</td>\n",
       "      <td>train</td>\n",
       "    </tr>\n",
       "    <tr>\n",
       "      <th>124</th>\n",
       "      <td>90986305</td>\n",
       "      <td>5156106114290009</td>\n",
       "      <td>L</td>\n",
       "      <td>CC</td>\n",
       "      <td>/data/mammo/png_kheiron/kheiron_code/cohort_1/...</td>\n",
       "      <td>100.0</td>\n",
       "      <td>0.0</td>\n",
       "      <td>train</td>\n",
       "    </tr>\n",
       "    <tr>\n",
       "      <th>126</th>\n",
       "      <td>78097721</td>\n",
       "      <td>3065491565033830</td>\n",
       "      <td>R</td>\n",
       "      <td>CC</td>\n",
       "      <td>/data/mammo/png_kheiron/kheiron_code/cohort_1/...</td>\n",
       "      <td>100.0</td>\n",
       "      <td>6.496919917864476</td>\n",
       "      <td>train</td>\n",
       "    </tr>\n",
       "    <tr>\n",
       "      <th>127</th>\n",
       "      <td>78097721</td>\n",
       "      <td>3065491565033830</td>\n",
       "      <td>L</td>\n",
       "      <td>CC</td>\n",
       "      <td>/data/mammo/png_kheiron/kheiron_code/cohort_1/...</td>\n",
       "      <td>100.0</td>\n",
       "      <td>6.496919917864476</td>\n",
       "      <td>train</td>\n",
       "    </tr>\n",
       "    <tr>\n",
       "      <th>128</th>\n",
       "      <td>78097721</td>\n",
       "      <td>3065491565033830</td>\n",
       "      <td>L</td>\n",
       "      <td>MLO</td>\n",
       "      <td>/data/mammo/png_kheiron/kheiron_code/cohort_1/...</td>\n",
       "      <td>100.0</td>\n",
       "      <td>6.496919917864476</td>\n",
       "      <td>train</td>\n",
       "    </tr>\n",
       "    <tr>\n",
       "      <th>129</th>\n",
       "      <td>78097721</td>\n",
       "      <td>3065491565033830</td>\n",
       "      <td>L</td>\n",
       "      <td>MLO</td>\n",
       "      <td>/data/mammo/png_kheiron/kheiron_code/cohort_1/...</td>\n",
       "      <td>100.0</td>\n",
       "      <td>6.496919917864476</td>\n",
       "      <td>train</td>\n",
       "    </tr>\n",
       "    <tr>\n",
       "      <th>130</th>\n",
       "      <td>78097721</td>\n",
       "      <td>3065491565033830</td>\n",
       "      <td>L</td>\n",
       "      <td>MLO</td>\n",
       "      <td>/data/mammo/png_kheiron/kheiron_code/cohort_1/...</td>\n",
       "      <td>100.0</td>\n",
       "      <td>6.496919917864476</td>\n",
       "      <td>train</td>\n",
       "    </tr>\n",
       "  </tbody>\n",
       "</table>\n",
       "</div>"
      ],
      "text/plain": [
       "    patient_id           exam_id laterality view  \\\n",
       "115   60696029  8099128854014801          R  MLO   \n",
       "116   60696029  8099128854014801          R  MLO   \n",
       "117   60696029  8099128854014801          R   CC   \n",
       "123   90986305  5156106114290009          L  MLO   \n",
       "124   90986305  5156106114290009          L   CC   \n",
       "126   78097721  3065491565033830          R   CC   \n",
       "127   78097721  3065491565033830          L   CC   \n",
       "128   78097721  3065491565033830          L  MLO   \n",
       "129   78097721  3065491565033830          L  MLO   \n",
       "130   78097721  3065491565033830          L  MLO   \n",
       "\n",
       "                                             file_path years_to_cancer  \\\n",
       "115  /data/mammo/png_kheiron/kheiron_code/cohort_1/...           100.0   \n",
       "116  /data/mammo/png_kheiron/kheiron_code/cohort_1/...           100.0   \n",
       "117  /data/mammo/png_kheiron/kheiron_code/cohort_1/...           100.0   \n",
       "123  /data/mammo/png_kheiron/kheiron_code/cohort_1/...           100.0   \n",
       "124  /data/mammo/png_kheiron/kheiron_code/cohort_1/...           100.0   \n",
       "126  /data/mammo/png_kheiron/kheiron_code/cohort_1/...           100.0   \n",
       "127  /data/mammo/png_kheiron/kheiron_code/cohort_1/...           100.0   \n",
       "128  /data/mammo/png_kheiron/kheiron_code/cohort_1/...           100.0   \n",
       "129  /data/mammo/png_kheiron/kheiron_code/cohort_1/...           100.0   \n",
       "130  /data/mammo/png_kheiron/kheiron_code/cohort_1/...           100.0   \n",
       "\n",
       "    years_to_last_followup split_group  \n",
       "115      5.711156741957564       train  \n",
       "116      5.711156741957564       train  \n",
       "117      5.711156741957564       train  \n",
       "123                    0.0       train  \n",
       "124                    0.0       train  \n",
       "126      6.496919917864476       train  \n",
       "127      6.496919917864476       train  \n",
       "128      6.496919917864476       train  \n",
       "129      6.496919917864476       train  \n",
       "130      6.496919917864476       train  "
      ]
     },
     "execution_count": 81,
     "metadata": {},
     "output_type": "execute_result"
    }
   ],
   "source": [
    "sampleCsv.head(10)"
   ]
  },
  {
   "cell_type": "code",
   "execution_count": 82,
   "metadata": {},
   "outputs": [
    {
     "data": {
      "text/plain": [
       "(1964300, 8)"
      ]
     },
     "execution_count": 82,
     "metadata": {},
     "output_type": "execute_result"
    }
   ],
   "source": [
    "sampleCsv.shape"
   ]
  },
  {
   "cell_type": "code",
   "execution_count": 83,
   "metadata": {},
   "outputs": [],
   "source": [
    "sampleCsv.to_csv('mirai_files_inchan_mar_24th_boosted_benign.csv', index=False)"
   ]
  }
 ],
 "metadata": {
  "kernelspec": {
   "display_name": "Python 3 (ipykernel)",
   "language": "python",
   "name": "python3"
  },
  "language_info": {
   "codemirror_mode": {
    "name": "ipython",
    "version": 3
   },
   "file_extension": ".py",
   "mimetype": "text/x-python",
   "name": "python",
   "nbconvert_exporter": "python",
   "pygments_lexer": "ipython3",
   "version": "3.9.1"
  }
 },
 "nbformat": 4,
 "nbformat_minor": 4
}
